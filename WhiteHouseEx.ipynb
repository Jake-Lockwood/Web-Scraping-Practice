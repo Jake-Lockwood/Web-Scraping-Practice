{
  "nbformat": 4,
  "nbformat_minor": 0,
  "metadata": {
    "colab": {
      "name": "WhiteHouseEx",
      "provenance": [],
      "collapsed_sections": [],
      "authorship_tag": "ABX9TyOIq/DCyPbm5uaYcu2shaQR",
      "include_colab_link": true
    },
    "kernelspec": {
      "name": "python3",
      "display_name": "Python 3"
    }
  },
  "cells": [
    {
      "cell_type": "markdown",
      "metadata": {
        "id": "view-in-github",
        "colab_type": "text"
      },
      "source": [
        "<a href=\"https://colab.research.google.com/github/Jake-Lockwood/Web-Scraping-Practice/blob/master/WhiteHouseEx.ipynb\" target=\"_parent\"><img src=\"https://colab.research.google.com/assets/colab-badge.svg\" alt=\"Open In Colab\"/></a>"
      ]
    },
    {
      "cell_type": "code",
      "metadata": {
        "id": "UBJmD5_gYBgP",
        "colab_type": "code",
        "colab": {}
      },
      "source": [
        "import requests\n",
        "from bs4 import BeautifulSoup"
      ],
      "execution_count": 0,
      "outputs": []
    },
    {
      "cell_type": "code",
      "metadata": {
        "id": "9tQ9L8baYWQ_",
        "colab_type": "code",
        "colab": {
          "base_uri": "https://localhost:8080/",
          "height": 33
        },
        "outputId": "e216449e-6a6b-4440-c5f0-4b63547dc916"
      },
      "source": [
        "result = requests.get(\"https://www.whitehouse.gov/briefings-statements/\")\n",
        "print(result.status_code)\n",
        "\n",
        "src = result.content"
      ],
      "execution_count": 6,
      "outputs": [
        {
          "output_type": "stream",
          "text": [
            "200\n"
          ],
          "name": "stdout"
        }
      ]
    },
    {
      "cell_type": "code",
      "metadata": {
        "id": "nMI-KiGjYexS",
        "colab_type": "code",
        "colab": {}
      },
      "source": [
        "soup = BeautifulSoup(src, \"lxml\")"
      ],
      "execution_count": 0,
      "outputs": []
    },
    {
      "cell_type": "code",
      "metadata": {
        "id": "kaJh-F2xY0BZ",
        "colab_type": "code",
        "colab": {}
      },
      "source": [
        "urls = []\n",
        "for h2_tag in soup.find_all('h2'):\n",
        "  a_tag = h2_tag.find('a')\n",
        "  urls.append(a_tag.attrs['href'])\n"
      ],
      "execution_count": 0,
      "outputs": []
    },
    {
      "cell_type": "code",
      "metadata": {
        "id": "f4MeqGqcZqKG",
        "colab_type": "code",
        "colab": {
          "base_uri": "https://localhost:8080/",
          "height": 53
        },
        "outputId": "06148e95-5fa8-4d8f-c4ae-b9bbf76cc8ab"
      },
      "source": [
        "print(urls)"
      ],
      "execution_count": 9,
      "outputs": [
        {
          "output_type": "stream",
          "text": [
            "['https://www.whitehouse.gov/briefings-statements/readout-governors-briefing-covid-19-response-re-opening-efforts/', 'https://www.whitehouse.gov/briefings-statements/remarks-president-trump-protecting-seniors-diabetes/', 'https://www.whitehouse.gov/briefings-statements/press-briefing-press-secretary-kayleigh-mcenany-052620/', 'https://www.whitehouse.gov/briefings-statements/president-donald-j-trump-reducing-cost-insulin-improving-healthcare-nations-seniors/', 'https://www.whitehouse.gov/briefings-statements/record-press-call-presidents-action-protect-seniors-diabetes/', 'https://www.whitehouse.gov/briefings-statements/remarks-president-trump-memorial-day-ceremony-baltimore-md/', 'https://www.whitehouse.gov/briefings-statements/press-briefing-press-secretary-kayleigh-mcenany-052220/', 'https://www.whitehouse.gov/briefings-statements/presidential-message-eid-al-fitr-2020/', 'https://www.whitehouse.gov/briefings-statements/remarks-president-trump-rolling-remember-ceremony-honoring-nations-veterans-pow-mia/', 'https://www.whitehouse.gov/briefings-statements/remarks-president-trump-ford-rawsonville-components-plant/']\n"
          ],
          "name": "stdout"
        }
      ]
    },
    {
      "cell_type": "code",
      "metadata": {
        "id": "dJBo-azkZrFt",
        "colab_type": "code",
        "colab": {}
      },
      "source": [
        ""
      ],
      "execution_count": 0,
      "outputs": []
    }
  ]
}